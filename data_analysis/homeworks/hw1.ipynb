{
 "cells": [
  {
   "cell_type": "code",
   "execution_count": 1,
   "metadata": {
    "collapsed": true
   },
   "outputs": [],
   "source": [
    "import pandas as pd\n"
   ]
  },
  {
   "cell_type": "code",
   "execution_count": 14,
   "outputs": [
    {
     "data": {
      "text/plain": "                       journal  year  cites  \\\n0     American-Economic-Review  1993     31   \n1     American-Economic-Review  1993      4   \n2     American-Economic-Review  1993     28   \n3     American-Economic-Review  1993     10   \n4     American-Economic-Review  1993      5   \n...                        ...   ...    ...   \n4177                       NaN  1974      0   \n4178                       NaN  1976      1   \n4179                       NaN  1976      1   \n4180                       NaN  1976      6   \n4181                       NaN  1976      6   \n\n                                                  title  \\\n0     Jeux Sans Frontieres:  Tax Competition and Tax...   \n1     Changes in Economic Instability in 19th-Centur...   \n2        Factor Shares and Savings in Endogenous Growth   \n3     Strategic Discipline in Monetary Policy with P...   \n4     Will Affirmative-Action Policies Eliminate Neg...   \n...                                                 ...   \n4177   Note Sur le Noyau d'Une Economie Avec Production   \n4178  Formulations Bayesennes de Modeles Economiques...   \n4179  Formulations Bayesennes de Modeles Economiques...   \n4180  Theoremes d'Existence et d'Equivalence Pour de...   \n4181  Theoremes d'Existence et d'Equivalence Pour de...   \n\n                         au1              au2  au3  female1  female2  female3  \\\n0               Kanbur,-Ravi    Keen,-Michael  NaN      0.0      0.0      NaN   \n1             James,-John-A.              NaN  NaN      0.0      NaN      NaN   \n2          Bertola,-Giuseppe              NaN  NaN      0.0      NaN      NaN   \n3     Garfinkel,-Michelle-R.    Oh,-Seonghwan  NaN      1.0      0.0      NaN   \n4             Coate,-Stephen  Loury,-Glenn-C.  NaN      0.0      0.0      NaN   \n...                      ...              ...  ...      ...      ...      ...   \n4177         Champsaur,-Paul              NaN  NaN      0.0      NaN      NaN   \n4178                     NaN              NaN  NaN      NaN      NaN      NaN   \n4179            Voranger,-J.              NaN  NaN      NaN      NaN      NaN   \n4180                     NaN              NaN  NaN      NaN      NaN      NaN   \n4181           Oddou,-Claude              NaN  NaN      0.0      NaN      NaN   \n\n      ...  nauthor  past5    aflpn90  spage  field  subfld   aulpn90  \\\n0     ...      2.0   0.00   7.416667    877   10.0     1.0  0.500000   \n1     ...      1.0   0.00  11.500000    710    9.0     1.0  1.000000   \n2     ...      1.0   1.00  62.583330   1184    5.0     2.0  3.500000   \n3     ...      2.0   0.75  19.916670     99    5.0     1.0  1.750000   \n4     ...      2.0   0.25  42.416660   1220    8.0     1.0  2.916667   \n...   ...      ...    ...        ...    ...    ...     ...       ...   \n4177  ...      NaN   0.00   3.000000    999    NaN     NaN  0.000000   \n4178  ...      NaN   0.00        NaN    999    NaN     NaN       NaN   \n4179  ...      NaN   0.00   3.000000    999    NaN     NaN  0.000000   \n4180  ...      NaN   0.00        NaN    999    NaN     NaN       NaN   \n4181  ...      NaN   0.00   3.000000    999    NaN     NaN  0.000000   \n\n       aulpn80   aulpn70    lcites  \n0     0.000000  0.000000  3.433987  \n1     0.000000  1.000000  1.386294  \n2     0.000000  0.000000  3.332205  \n3     0.000000  0.000000  2.302585  \n4     0.666667  1.000000  1.609438  \n...        ...       ...       ...  \n4177  1.500000  1.333333       NaN  \n4178       NaN       NaN  0.000000  \n4179  0.000000  0.000000  0.000000  \n4180       NaN       NaN  1.791759  \n4181  0.333333  0.000000  1.791759  \n\n[4182 rows x 22 columns]",
      "text/html": "<div>\n<style scoped>\n    .dataframe tbody tr th:only-of-type {\n        vertical-align: middle;\n    }\n\n    .dataframe tbody tr th {\n        vertical-align: top;\n    }\n\n    .dataframe thead th {\n        text-align: right;\n    }\n</style>\n<table border=\"1\" class=\"dataframe\">\n  <thead>\n    <tr style=\"text-align: right;\">\n      <th></th>\n      <th>journal</th>\n      <th>year</th>\n      <th>cites</th>\n      <th>title</th>\n      <th>au1</th>\n      <th>au2</th>\n      <th>au3</th>\n      <th>female1</th>\n      <th>female2</th>\n      <th>female3</th>\n      <th>...</th>\n      <th>nauthor</th>\n      <th>past5</th>\n      <th>aflpn90</th>\n      <th>spage</th>\n      <th>field</th>\n      <th>subfld</th>\n      <th>aulpn90</th>\n      <th>aulpn80</th>\n      <th>aulpn70</th>\n      <th>lcites</th>\n    </tr>\n  </thead>\n  <tbody>\n    <tr>\n      <th>0</th>\n      <td>American-Economic-Review</td>\n      <td>1993</td>\n      <td>31</td>\n      <td>Jeux Sans Frontieres:  Tax Competition and Tax...</td>\n      <td>Kanbur,-Ravi</td>\n      <td>Keen,-Michael</td>\n      <td>NaN</td>\n      <td>0.0</td>\n      <td>0.0</td>\n      <td>NaN</td>\n      <td>...</td>\n      <td>2.0</td>\n      <td>0.00</td>\n      <td>7.416667</td>\n      <td>877</td>\n      <td>10.0</td>\n      <td>1.0</td>\n      <td>0.500000</td>\n      <td>0.000000</td>\n      <td>0.000000</td>\n      <td>3.433987</td>\n    </tr>\n    <tr>\n      <th>1</th>\n      <td>American-Economic-Review</td>\n      <td>1993</td>\n      <td>4</td>\n      <td>Changes in Economic Instability in 19th-Centur...</td>\n      <td>James,-John-A.</td>\n      <td>NaN</td>\n      <td>NaN</td>\n      <td>0.0</td>\n      <td>NaN</td>\n      <td>NaN</td>\n      <td>...</td>\n      <td>1.0</td>\n      <td>0.00</td>\n      <td>11.500000</td>\n      <td>710</td>\n      <td>9.0</td>\n      <td>1.0</td>\n      <td>1.000000</td>\n      <td>0.000000</td>\n      <td>1.000000</td>\n      <td>1.386294</td>\n    </tr>\n    <tr>\n      <th>2</th>\n      <td>American-Economic-Review</td>\n      <td>1993</td>\n      <td>28</td>\n      <td>Factor Shares and Savings in Endogenous Growth</td>\n      <td>Bertola,-Giuseppe</td>\n      <td>NaN</td>\n      <td>NaN</td>\n      <td>0.0</td>\n      <td>NaN</td>\n      <td>NaN</td>\n      <td>...</td>\n      <td>1.0</td>\n      <td>1.00</td>\n      <td>62.583330</td>\n      <td>1184</td>\n      <td>5.0</td>\n      <td>2.0</td>\n      <td>3.500000</td>\n      <td>0.000000</td>\n      <td>0.000000</td>\n      <td>3.332205</td>\n    </tr>\n    <tr>\n      <th>3</th>\n      <td>American-Economic-Review</td>\n      <td>1993</td>\n      <td>10</td>\n      <td>Strategic Discipline in Monetary Policy with P...</td>\n      <td>Garfinkel,-Michelle-R.</td>\n      <td>Oh,-Seonghwan</td>\n      <td>NaN</td>\n      <td>1.0</td>\n      <td>0.0</td>\n      <td>NaN</td>\n      <td>...</td>\n      <td>2.0</td>\n      <td>0.75</td>\n      <td>19.916670</td>\n      <td>99</td>\n      <td>5.0</td>\n      <td>1.0</td>\n      <td>1.750000</td>\n      <td>0.000000</td>\n      <td>0.000000</td>\n      <td>2.302585</td>\n    </tr>\n    <tr>\n      <th>4</th>\n      <td>American-Economic-Review</td>\n      <td>1993</td>\n      <td>5</td>\n      <td>Will Affirmative-Action Policies Eliminate Neg...</td>\n      <td>Coate,-Stephen</td>\n      <td>Loury,-Glenn-C.</td>\n      <td>NaN</td>\n      <td>0.0</td>\n      <td>0.0</td>\n      <td>NaN</td>\n      <td>...</td>\n      <td>2.0</td>\n      <td>0.25</td>\n      <td>42.416660</td>\n      <td>1220</td>\n      <td>8.0</td>\n      <td>1.0</td>\n      <td>2.916667</td>\n      <td>0.666667</td>\n      <td>1.000000</td>\n      <td>1.609438</td>\n    </tr>\n    <tr>\n      <th>...</th>\n      <td>...</td>\n      <td>...</td>\n      <td>...</td>\n      <td>...</td>\n      <td>...</td>\n      <td>...</td>\n      <td>...</td>\n      <td>...</td>\n      <td>...</td>\n      <td>...</td>\n      <td>...</td>\n      <td>...</td>\n      <td>...</td>\n      <td>...</td>\n      <td>...</td>\n      <td>...</td>\n      <td>...</td>\n      <td>...</td>\n      <td>...</td>\n      <td>...</td>\n      <td>...</td>\n    </tr>\n    <tr>\n      <th>4177</th>\n      <td>NaN</td>\n      <td>1974</td>\n      <td>0</td>\n      <td>Note Sur le Noyau d'Une Economie Avec Production</td>\n      <td>Champsaur,-Paul</td>\n      <td>NaN</td>\n      <td>NaN</td>\n      <td>0.0</td>\n      <td>NaN</td>\n      <td>NaN</td>\n      <td>...</td>\n      <td>NaN</td>\n      <td>0.00</td>\n      <td>3.000000</td>\n      <td>999</td>\n      <td>NaN</td>\n      <td>NaN</td>\n      <td>0.000000</td>\n      <td>1.500000</td>\n      <td>1.333333</td>\n      <td>NaN</td>\n    </tr>\n    <tr>\n      <th>4178</th>\n      <td>NaN</td>\n      <td>1976</td>\n      <td>1</td>\n      <td>Formulations Bayesennes de Modeles Economiques...</td>\n      <td>NaN</td>\n      <td>NaN</td>\n      <td>NaN</td>\n      <td>NaN</td>\n      <td>NaN</td>\n      <td>NaN</td>\n      <td>...</td>\n      <td>NaN</td>\n      <td>0.00</td>\n      <td>NaN</td>\n      <td>999</td>\n      <td>NaN</td>\n      <td>NaN</td>\n      <td>NaN</td>\n      <td>NaN</td>\n      <td>NaN</td>\n      <td>0.000000</td>\n    </tr>\n    <tr>\n      <th>4179</th>\n      <td>NaN</td>\n      <td>1976</td>\n      <td>1</td>\n      <td>Formulations Bayesennes de Modeles Economiques...</td>\n      <td>Voranger,-J.</td>\n      <td>NaN</td>\n      <td>NaN</td>\n      <td>NaN</td>\n      <td>NaN</td>\n      <td>NaN</td>\n      <td>...</td>\n      <td>NaN</td>\n      <td>0.00</td>\n      <td>3.000000</td>\n      <td>999</td>\n      <td>NaN</td>\n      <td>NaN</td>\n      <td>0.000000</td>\n      <td>0.000000</td>\n      <td>0.000000</td>\n      <td>0.000000</td>\n    </tr>\n    <tr>\n      <th>4180</th>\n      <td>NaN</td>\n      <td>1976</td>\n      <td>6</td>\n      <td>Theoremes d'Existence et d'Equivalence Pour de...</td>\n      <td>NaN</td>\n      <td>NaN</td>\n      <td>NaN</td>\n      <td>NaN</td>\n      <td>NaN</td>\n      <td>NaN</td>\n      <td>...</td>\n      <td>NaN</td>\n      <td>0.00</td>\n      <td>NaN</td>\n      <td>999</td>\n      <td>NaN</td>\n      <td>NaN</td>\n      <td>NaN</td>\n      <td>NaN</td>\n      <td>NaN</td>\n      <td>1.791759</td>\n    </tr>\n    <tr>\n      <th>4181</th>\n      <td>NaN</td>\n      <td>1976</td>\n      <td>6</td>\n      <td>Theoremes d'Existence et d'Equivalence Pour de...</td>\n      <td>Oddou,-Claude</td>\n      <td>NaN</td>\n      <td>NaN</td>\n      <td>0.0</td>\n      <td>NaN</td>\n      <td>NaN</td>\n      <td>...</td>\n      <td>NaN</td>\n      <td>0.00</td>\n      <td>3.000000</td>\n      <td>999</td>\n      <td>NaN</td>\n      <td>NaN</td>\n      <td>0.000000</td>\n      <td>0.333333</td>\n      <td>0.000000</td>\n      <td>1.791759</td>\n    </tr>\n  </tbody>\n</table>\n<p>4182 rows × 22 columns</p>\n</div>"
     },
     "execution_count": 14,
     "metadata": {},
     "output_type": "execute_result"
    }
   ],
   "source": [
    "#import, create a DataFrame and display dataset\n",
    "df = pd.read_csv('../../../14.310 - Data Analysis in Social Science/Datasets/CitesforSara.csv')\n",
    "df"
   ],
   "metadata": {
    "collapsed": false,
    "pycharm": {
     "name": "#%%\n"
    }
   }
  },
  {
   "cell_type": "code",
   "execution_count": 16,
   "outputs": [
    {
     "data": {
      "text/plain": "                       journal  year  cites  \\\n0     American-Economic-Review  1993     31   \n1     American-Economic-Review  1993      4   \n2     American-Economic-Review  1993     28   \n3     American-Economic-Review  1993     10   \n4     American-Economic-Review  1993      5   \n...                        ...   ...    ...   \n4177                       NaN  1974      0   \n4178                       NaN  1976      1   \n4179                       NaN  1976      1   \n4180                       NaN  1976      6   \n4181                       NaN  1976      6   \n\n                                                  title  \\\n0     Jeux Sans Frontieres:  Tax Competition and Tax...   \n1     Changes in Economic Instability in 19th-Centur...   \n2        Factor Shares and Savings in Endogenous Growth   \n3     Strategic Discipline in Monetary Policy with P...   \n4     Will Affirmative-Action Policies Eliminate Neg...   \n...                                                 ...   \n4177   Note Sur le Noyau d'Une Economie Avec Production   \n4178  Formulations Bayesennes de Modeles Economiques...   \n4179  Formulations Bayesennes de Modeles Economiques...   \n4180  Theoremes d'Existence et d'Equivalence Pour de...   \n4181  Theoremes d'Existence et d'Equivalence Pour de...   \n\n                         au1  \n0               Kanbur,-Ravi  \n1             James,-John-A.  \n2          Bertola,-Giuseppe  \n3     Garfinkel,-Michelle-R.  \n4             Coate,-Stephen  \n...                      ...  \n4177         Champsaur,-Paul  \n4178                     NaN  \n4179            Voranger,-J.  \n4180                     NaN  \n4181           Oddou,-Claude  \n\n[4182 rows x 5 columns]",
      "text/html": "<div>\n<style scoped>\n    .dataframe tbody tr th:only-of-type {\n        vertical-align: middle;\n    }\n\n    .dataframe tbody tr th {\n        vertical-align: top;\n    }\n\n    .dataframe thead th {\n        text-align: right;\n    }\n</style>\n<table border=\"1\" class=\"dataframe\">\n  <thead>\n    <tr style=\"text-align: right;\">\n      <th></th>\n      <th>journal</th>\n      <th>year</th>\n      <th>cites</th>\n      <th>title</th>\n      <th>au1</th>\n    </tr>\n  </thead>\n  <tbody>\n    <tr>\n      <th>0</th>\n      <td>American-Economic-Review</td>\n      <td>1993</td>\n      <td>31</td>\n      <td>Jeux Sans Frontieres:  Tax Competition and Tax...</td>\n      <td>Kanbur,-Ravi</td>\n    </tr>\n    <tr>\n      <th>1</th>\n      <td>American-Economic-Review</td>\n      <td>1993</td>\n      <td>4</td>\n      <td>Changes in Economic Instability in 19th-Centur...</td>\n      <td>James,-John-A.</td>\n    </tr>\n    <tr>\n      <th>2</th>\n      <td>American-Economic-Review</td>\n      <td>1993</td>\n      <td>28</td>\n      <td>Factor Shares and Savings in Endogenous Growth</td>\n      <td>Bertola,-Giuseppe</td>\n    </tr>\n    <tr>\n      <th>3</th>\n      <td>American-Economic-Review</td>\n      <td>1993</td>\n      <td>10</td>\n      <td>Strategic Discipline in Monetary Policy with P...</td>\n      <td>Garfinkel,-Michelle-R.</td>\n    </tr>\n    <tr>\n      <th>4</th>\n      <td>American-Economic-Review</td>\n      <td>1993</td>\n      <td>5</td>\n      <td>Will Affirmative-Action Policies Eliminate Neg...</td>\n      <td>Coate,-Stephen</td>\n    </tr>\n    <tr>\n      <th>...</th>\n      <td>...</td>\n      <td>...</td>\n      <td>...</td>\n      <td>...</td>\n      <td>...</td>\n    </tr>\n    <tr>\n      <th>4177</th>\n      <td>NaN</td>\n      <td>1974</td>\n      <td>0</td>\n      <td>Note Sur le Noyau d'Une Economie Avec Production</td>\n      <td>Champsaur,-Paul</td>\n    </tr>\n    <tr>\n      <th>4178</th>\n      <td>NaN</td>\n      <td>1976</td>\n      <td>1</td>\n      <td>Formulations Bayesennes de Modeles Economiques...</td>\n      <td>NaN</td>\n    </tr>\n    <tr>\n      <th>4179</th>\n      <td>NaN</td>\n      <td>1976</td>\n      <td>1</td>\n      <td>Formulations Bayesennes de Modeles Economiques...</td>\n      <td>Voranger,-J.</td>\n    </tr>\n    <tr>\n      <th>4180</th>\n      <td>NaN</td>\n      <td>1976</td>\n      <td>6</td>\n      <td>Theoremes d'Existence et d'Equivalence Pour de...</td>\n      <td>NaN</td>\n    </tr>\n    <tr>\n      <th>4181</th>\n      <td>NaN</td>\n      <td>1976</td>\n      <td>6</td>\n      <td>Theoremes d'Existence et d'Equivalence Pour de...</td>\n      <td>Oddou,-Claude</td>\n    </tr>\n  </tbody>\n</table>\n<p>4182 rows × 5 columns</p>\n</div>"
     },
     "execution_count": 16,
     "metadata": {},
     "output_type": "execute_result"
    }
   ],
   "source": [
    "#select only colvars journal, year, cites, title, au1\n",
    "my_papers = pd.DataFrame(df, columns=['journal', 'year', 'cites', 'title', 'au1'])\n",
    "my_papers"
   ],
   "metadata": {
    "collapsed": false,
    "pycharm": {
     "name": "#%%\n"
    }
   }
  },
  {
   "cell_type": "code",
   "execution_count": 32,
   "outputs": [
    {
     "data": {
      "text/plain": "           journal  year  cites  \\\n974   Econometrica  1980   2251   \n897   Econometrica  1979   2227   \n1438  Econometrica  1987   2164   \n867   Econometrica  1979   1602   \n814   Econometrica  1978   1217   \n...            ...   ...    ...   \n1045  Econometrica  1981    102   \n1055  Econometrica  1981    102   \n1331  Econometrica  1985    102   \n1009  Econometrica  1981    101   \n986   Econometrica  1980    100   \n\n                                                  title                    au1  \n974   A Heteroskedasticity-Consistent Covariance Mat...         White,-Halbert  \n897   Prospect Theory: An Analysis of Decision under...       Kahneman,-Daniel  \n1438  Co-integration and Error Correction: Represent...  Engle,-Robert-F., III  \n867      Sample Selection Bias as a Specification Error      Heckman,-James-J.  \n814                 Specification Tests in Econometrics      Hausman,-Jerry-A.  \n...                                                 ...                    ...  \n1045        Biases in Dynamic Models with Fixed Effects    Nickell,-Stephen-J.  \n1055  What Do Economists Know? An Empirical Study of...        Brown,-Bryan-W.  \n1331  A Profitable Approach to Labor Supply and Comm...    Browning,-Martin-J.  \n1009  Monitoring Cooperative Agreements in a Repeate...            Radner,-Roy  \n986   Advertising and Aggregate Consumption: An Anal...     Ashley,-Richard-A.  \n\n[205 rows x 5 columns]",
      "text/html": "<div>\n<style scoped>\n    .dataframe tbody tr th:only-of-type {\n        vertical-align: middle;\n    }\n\n    .dataframe tbody tr th {\n        vertical-align: top;\n    }\n\n    .dataframe thead th {\n        text-align: right;\n    }\n</style>\n<table border=\"1\" class=\"dataframe\">\n  <thead>\n    <tr style=\"text-align: right;\">\n      <th></th>\n      <th>journal</th>\n      <th>year</th>\n      <th>cites</th>\n      <th>title</th>\n      <th>au1</th>\n    </tr>\n  </thead>\n  <tbody>\n    <tr>\n      <th>974</th>\n      <td>Econometrica</td>\n      <td>1980</td>\n      <td>2251</td>\n      <td>A Heteroskedasticity-Consistent Covariance Mat...</td>\n      <td>White,-Halbert</td>\n    </tr>\n    <tr>\n      <th>897</th>\n      <td>Econometrica</td>\n      <td>1979</td>\n      <td>2227</td>\n      <td>Prospect Theory: An Analysis of Decision under...</td>\n      <td>Kahneman,-Daniel</td>\n    </tr>\n    <tr>\n      <th>1438</th>\n      <td>Econometrica</td>\n      <td>1987</td>\n      <td>2164</td>\n      <td>Co-integration and Error Correction: Represent...</td>\n      <td>Engle,-Robert-F., III</td>\n    </tr>\n    <tr>\n      <th>867</th>\n      <td>Econometrica</td>\n      <td>1979</td>\n      <td>1602</td>\n      <td>Sample Selection Bias as a Specification Error</td>\n      <td>Heckman,-James-J.</td>\n    </tr>\n    <tr>\n      <th>814</th>\n      <td>Econometrica</td>\n      <td>1978</td>\n      <td>1217</td>\n      <td>Specification Tests in Econometrics</td>\n      <td>Hausman,-Jerry-A.</td>\n    </tr>\n    <tr>\n      <th>...</th>\n      <td>...</td>\n      <td>...</td>\n      <td>...</td>\n      <td>...</td>\n      <td>...</td>\n    </tr>\n    <tr>\n      <th>1045</th>\n      <td>Econometrica</td>\n      <td>1981</td>\n      <td>102</td>\n      <td>Biases in Dynamic Models with Fixed Effects</td>\n      <td>Nickell,-Stephen-J.</td>\n    </tr>\n    <tr>\n      <th>1055</th>\n      <td>Econometrica</td>\n      <td>1981</td>\n      <td>102</td>\n      <td>What Do Economists Know? An Empirical Study of...</td>\n      <td>Brown,-Bryan-W.</td>\n    </tr>\n    <tr>\n      <th>1331</th>\n      <td>Econometrica</td>\n      <td>1985</td>\n      <td>102</td>\n      <td>A Profitable Approach to Labor Supply and Comm...</td>\n      <td>Browning,-Martin-J.</td>\n    </tr>\n    <tr>\n      <th>1009</th>\n      <td>Econometrica</td>\n      <td>1981</td>\n      <td>101</td>\n      <td>Monitoring Cooperative Agreements in a Repeate...</td>\n      <td>Radner,-Roy</td>\n    </tr>\n    <tr>\n      <th>986</th>\n      <td>Econometrica</td>\n      <td>1980</td>\n      <td>100</td>\n      <td>Advertising and Aggregate Consumption: An Anal...</td>\n      <td>Ashley,-Richard-A.</td>\n    </tr>\n  </tbody>\n</table>\n<p>205 rows × 5 columns</p>\n</div>"
     },
     "execution_count": 32,
     "metadata": {},
     "output_type": "execute_result"
    }
   ],
   "source": [
    "# look at the most popular papers (the ones who have 100 citations or more) - (205 occurences)\n",
    "popular_papers = my_papers[my_papers['cites'] >= 100].sort_values(by='cites', ascending=False)\n",
    "popular_papers"
   ],
   "metadata": {
    "collapsed": false,
    "pycharm": {
     "name": "#%%\n"
    }
   }
  },
  {
   "cell_type": "code",
   "execution_count": 45,
   "outputs": [
    {
     "data": {
      "text/plain": "75789"
     },
     "execution_count": 45,
     "metadata": {},
     "output_type": "execute_result"
    }
   ],
   "source": [
    "#How many citations exist for the journal 'Econometrica' ? - (75789)\n",
    "grouped_papers = my_papers.groupby('journal')\n",
    "grouped_papers.get_group('Econometrica')['cites'].sum()\n",
    "\n"
   ],
   "metadata": {
    "collapsed": false,
    "pycharm": {
     "name": "#%%\n"
    }
   }
  },
  {
   "cell_type": "code",
   "execution_count": 54,
   "outputs": [
    {
     "data": {
      "text/plain": "2332"
     },
     "execution_count": 54,
     "metadata": {},
     "output_type": "execute_result"
    }
   ],
   "source": [
    "#How many distinct primary authors (au1) is there in the dataset ? - (2332)\n",
    "my_papers['au1'].nunique()\n"
   ],
   "metadata": {
    "collapsed": false,
    "pycharm": {
     "name": "#%%\n"
    }
   }
  },
  {
   "cell_type": "code",
   "execution_count": 74,
   "outputs": [
    {
     "data": {
      "text/plain": "                                 journal  year  cites  \\\n1               American-Economic-Review  1993      4   \n6               American-Economic-Review  1993     45   \n13              American-Economic-Review  1993     15   \n19              American-Economic-Review  1993      5   \n44              American-Economic-Review  1993     29   \n...                                  ...   ...    ...   \n4090  Review-of-Economics-and-Statistics  1978    162   \n4103  Review-of-Economics-and-Statistics  1978    148   \n4120  Review-of-Economics-and-Statistics  1978      8   \n4128  Review-of-Economics-and-Statistics  1979      4   \n4158  Review-of-Economics-and-Statistics  1979      7   \n\n                                                  title  \\\n1     Changes in Economic Instability in 19th-Centur...   \n6     A Search-Theoretic Approach to Monetary Economics   \n13    Economic Policy, Economic Performance, and Ele...   \n19    The Economics of Rotating Savings and Credit A...   \n44    Transitional Dynamics and Economic Growth in t...   \n...                                                 ...   \n4090  The Effect of Economic Events on Votes for Pre...   \n4103  An Empirical Study of Politico-Economic Intera...   \n4120   The Sources of Japanese Economic Growth: 1955-71   \n4128  The Economics of the Distribution of Municipal...   \n4158  The Response of State Government Receipts to E...   \n\n                             au1                   au2              au3  \\\n1                 James,-John-A.                   NaN              NaN   \n6             Kiyotaki,-Nobuhiro       Wright,-Randall              NaN   \n13    Harrington,-Joseph-E., Jr.                   NaN              NaN   \n19               Besley,-Timothy        Coate,-Stephen  Loury,-Glenn-C.   \n44               King,-Robert-G.     Rebelo,-Sergio-T.              NaN   \n...                          ...                   ...              ...   \n4090                Fair,-Ray-C.                   NaN              NaN   \n4103              Frey,-Bruno-S.  Schneider,-Friedrich              NaN   \n4120            Nishimizu,-Mieko    Hulten,-Charles-R.              NaN   \n4128           Rider,-Kenneth-L.                   NaN              NaN   \n4158            Vogel,-Robert-C.      Trost,-Robert-P.              NaN   \n\n      female1  female2  female3  ...  nauthor     past5    aflpn90  spage  \\\n1         0.0      NaN      NaN  ...      1.0  0.000000  11.500000    710   \n6         0.0      0.0      NaN  ...      2.0  1.666667  13.666670     63   \n13        0.0      NaN      NaN  ...      1.0  0.000000   7.333333     27   \n19        0.0      0.0      0.0  ...      3.0  0.333333  49.138890    792   \n44        0.0      0.0      NaN  ...      2.0  1.000000  19.541670    908   \n...       ...      ...      ...  ...      ...       ...        ...    ...   \n4090      0.0      NaN      NaN  ...      1.0  0.500000   3.000000    159   \n4103      0.0      0.0      NaN  ...      2.0  0.000000   3.000000    174   \n4120      1.0      0.0      NaN  ...      2.0  1.000000   3.000000    351   \n4128      0.0      NaN      NaN  ...      1.0  0.000000   3.000000    249   \n4158      0.0      0.0      NaN  ...      2.0  0.500000   3.000000    389   \n\n      field  subfld   aulpn90   aulpn80   aulpn70    lcites  \n1       9.0     1.0  1.000000  0.000000  1.000000  1.386294  \n6       5.0     1.0  1.833333  1.750000  0.000000  3.806663  \n13      2.0     4.0  2.000000  0.000000  0.000000  2.708050  \n19      4.0     2.0  3.611111  0.444444  0.666667  1.609438  \n44      5.0     2.0  2.041667  1.000000  0.000000  3.367296  \n...     ...     ...       ...       ...       ...       ...  \n4090   15.0     1.0  1.000000  4.333333  7.000000  5.087596  \n4103   17.0     1.0  0.166667  0.250000  0.000000  4.997212  \n4120   13.0     1.0  0.500000  0.250000  2.000000  2.079442  \n4128    8.0     1.0  0.000000  0.000000  0.000000  1.386294  \n4158   10.0     1.0  0.250000  0.000000  0.500000  1.945910  \n\n[153 rows x 22 columns]",
      "text/html": "<div>\n<style scoped>\n    .dataframe tbody tr th:only-of-type {\n        vertical-align: middle;\n    }\n\n    .dataframe tbody tr th {\n        vertical-align: top;\n    }\n\n    .dataframe thead th {\n        text-align: right;\n    }\n</style>\n<table border=\"1\" class=\"dataframe\">\n  <thead>\n    <tr style=\"text-align: right;\">\n      <th></th>\n      <th>journal</th>\n      <th>year</th>\n      <th>cites</th>\n      <th>title</th>\n      <th>au1</th>\n      <th>au2</th>\n      <th>au3</th>\n      <th>female1</th>\n      <th>female2</th>\n      <th>female3</th>\n      <th>...</th>\n      <th>nauthor</th>\n      <th>past5</th>\n      <th>aflpn90</th>\n      <th>spage</th>\n      <th>field</th>\n      <th>subfld</th>\n      <th>aulpn90</th>\n      <th>aulpn80</th>\n      <th>aulpn70</th>\n      <th>lcites</th>\n    </tr>\n  </thead>\n  <tbody>\n    <tr>\n      <th>1</th>\n      <td>American-Economic-Review</td>\n      <td>1993</td>\n      <td>4</td>\n      <td>Changes in Economic Instability in 19th-Centur...</td>\n      <td>James,-John-A.</td>\n      <td>NaN</td>\n      <td>NaN</td>\n      <td>0.0</td>\n      <td>NaN</td>\n      <td>NaN</td>\n      <td>...</td>\n      <td>1.0</td>\n      <td>0.000000</td>\n      <td>11.500000</td>\n      <td>710</td>\n      <td>9.0</td>\n      <td>1.0</td>\n      <td>1.000000</td>\n      <td>0.000000</td>\n      <td>1.000000</td>\n      <td>1.386294</td>\n    </tr>\n    <tr>\n      <th>6</th>\n      <td>American-Economic-Review</td>\n      <td>1993</td>\n      <td>45</td>\n      <td>A Search-Theoretic Approach to Monetary Economics</td>\n      <td>Kiyotaki,-Nobuhiro</td>\n      <td>Wright,-Randall</td>\n      <td>NaN</td>\n      <td>0.0</td>\n      <td>0.0</td>\n      <td>NaN</td>\n      <td>...</td>\n      <td>2.0</td>\n      <td>1.666667</td>\n      <td>13.666670</td>\n      <td>63</td>\n      <td>5.0</td>\n      <td>1.0</td>\n      <td>1.833333</td>\n      <td>1.750000</td>\n      <td>0.000000</td>\n      <td>3.806663</td>\n    </tr>\n    <tr>\n      <th>13</th>\n      <td>American-Economic-Review</td>\n      <td>1993</td>\n      <td>15</td>\n      <td>Economic Policy, Economic Performance, and Ele...</td>\n      <td>Harrington,-Joseph-E., Jr.</td>\n      <td>NaN</td>\n      <td>NaN</td>\n      <td>0.0</td>\n      <td>NaN</td>\n      <td>NaN</td>\n      <td>...</td>\n      <td>1.0</td>\n      <td>0.000000</td>\n      <td>7.333333</td>\n      <td>27</td>\n      <td>2.0</td>\n      <td>4.0</td>\n      <td>2.000000</td>\n      <td>0.000000</td>\n      <td>0.000000</td>\n      <td>2.708050</td>\n    </tr>\n    <tr>\n      <th>19</th>\n      <td>American-Economic-Review</td>\n      <td>1993</td>\n      <td>5</td>\n      <td>The Economics of Rotating Savings and Credit A...</td>\n      <td>Besley,-Timothy</td>\n      <td>Coate,-Stephen</td>\n      <td>Loury,-Glenn-C.</td>\n      <td>0.0</td>\n      <td>0.0</td>\n      <td>0.0</td>\n      <td>...</td>\n      <td>3.0</td>\n      <td>0.333333</td>\n      <td>49.138890</td>\n      <td>792</td>\n      <td>4.0</td>\n      <td>2.0</td>\n      <td>3.611111</td>\n      <td>0.444444</td>\n      <td>0.666667</td>\n      <td>1.609438</td>\n    </tr>\n    <tr>\n      <th>44</th>\n      <td>American-Economic-Review</td>\n      <td>1993</td>\n      <td>29</td>\n      <td>Transitional Dynamics and Economic Growth in t...</td>\n      <td>King,-Robert-G.</td>\n      <td>Rebelo,-Sergio-T.</td>\n      <td>NaN</td>\n      <td>0.0</td>\n      <td>0.0</td>\n      <td>NaN</td>\n      <td>...</td>\n      <td>2.0</td>\n      <td>1.000000</td>\n      <td>19.541670</td>\n      <td>908</td>\n      <td>5.0</td>\n      <td>2.0</td>\n      <td>2.041667</td>\n      <td>1.000000</td>\n      <td>0.000000</td>\n      <td>3.367296</td>\n    </tr>\n    <tr>\n      <th>...</th>\n      <td>...</td>\n      <td>...</td>\n      <td>...</td>\n      <td>...</td>\n      <td>...</td>\n      <td>...</td>\n      <td>...</td>\n      <td>...</td>\n      <td>...</td>\n      <td>...</td>\n      <td>...</td>\n      <td>...</td>\n      <td>...</td>\n      <td>...</td>\n      <td>...</td>\n      <td>...</td>\n      <td>...</td>\n      <td>...</td>\n      <td>...</td>\n      <td>...</td>\n      <td>...</td>\n    </tr>\n    <tr>\n      <th>4090</th>\n      <td>Review-of-Economics-and-Statistics</td>\n      <td>1978</td>\n      <td>162</td>\n      <td>The Effect of Economic Events on Votes for Pre...</td>\n      <td>Fair,-Ray-C.</td>\n      <td>NaN</td>\n      <td>NaN</td>\n      <td>0.0</td>\n      <td>NaN</td>\n      <td>NaN</td>\n      <td>...</td>\n      <td>1.0</td>\n      <td>0.500000</td>\n      <td>3.000000</td>\n      <td>159</td>\n      <td>15.0</td>\n      <td>1.0</td>\n      <td>1.000000</td>\n      <td>4.333333</td>\n      <td>7.000000</td>\n      <td>5.087596</td>\n    </tr>\n    <tr>\n      <th>4103</th>\n      <td>Review-of-Economics-and-Statistics</td>\n      <td>1978</td>\n      <td>148</td>\n      <td>An Empirical Study of Politico-Economic Intera...</td>\n      <td>Frey,-Bruno-S.</td>\n      <td>Schneider,-Friedrich</td>\n      <td>NaN</td>\n      <td>0.0</td>\n      <td>0.0</td>\n      <td>NaN</td>\n      <td>...</td>\n      <td>2.0</td>\n      <td>0.000000</td>\n      <td>3.000000</td>\n      <td>174</td>\n      <td>17.0</td>\n      <td>1.0</td>\n      <td>0.166667</td>\n      <td>0.250000</td>\n      <td>0.000000</td>\n      <td>4.997212</td>\n    </tr>\n    <tr>\n      <th>4120</th>\n      <td>Review-of-Economics-and-Statistics</td>\n      <td>1978</td>\n      <td>8</td>\n      <td>The Sources of Japanese Economic Growth: 1955-71</td>\n      <td>Nishimizu,-Mieko</td>\n      <td>Hulten,-Charles-R.</td>\n      <td>NaN</td>\n      <td>1.0</td>\n      <td>0.0</td>\n      <td>NaN</td>\n      <td>...</td>\n      <td>2.0</td>\n      <td>1.000000</td>\n      <td>3.000000</td>\n      <td>351</td>\n      <td>13.0</td>\n      <td>1.0</td>\n      <td>0.500000</td>\n      <td>0.250000</td>\n      <td>2.000000</td>\n      <td>2.079442</td>\n    </tr>\n    <tr>\n      <th>4128</th>\n      <td>Review-of-Economics-and-Statistics</td>\n      <td>1979</td>\n      <td>4</td>\n      <td>The Economics of the Distribution of Municipal...</td>\n      <td>Rider,-Kenneth-L.</td>\n      <td>NaN</td>\n      <td>NaN</td>\n      <td>0.0</td>\n      <td>NaN</td>\n      <td>NaN</td>\n      <td>...</td>\n      <td>1.0</td>\n      <td>0.000000</td>\n      <td>3.000000</td>\n      <td>249</td>\n      <td>8.0</td>\n      <td>1.0</td>\n      <td>0.000000</td>\n      <td>0.000000</td>\n      <td>0.000000</td>\n      <td>1.386294</td>\n    </tr>\n    <tr>\n      <th>4158</th>\n      <td>Review-of-Economics-and-Statistics</td>\n      <td>1979</td>\n      <td>7</td>\n      <td>The Response of State Government Receipts to E...</td>\n      <td>Vogel,-Robert-C.</td>\n      <td>Trost,-Robert-P.</td>\n      <td>NaN</td>\n      <td>0.0</td>\n      <td>0.0</td>\n      <td>NaN</td>\n      <td>...</td>\n      <td>2.0</td>\n      <td>0.500000</td>\n      <td>3.000000</td>\n      <td>389</td>\n      <td>10.0</td>\n      <td>1.0</td>\n      <td>0.250000</td>\n      <td>0.000000</td>\n      <td>0.500000</td>\n      <td>1.945910</td>\n    </tr>\n  </tbody>\n</table>\n<p>153 rows × 22 columns</p>\n</div>"
     },
     "execution_count": 74,
     "metadata": {},
     "output_type": "execute_result"
    }
   ],
   "source": [
    "#Create a new dataset which only contains the papers that contains 'target_word'\n",
    "target_word = 'Economic'\n",
    "targetted_df = df[df['title'].str.contains(target_word, na=False)]\n",
    "targetted_df\n"
   ],
   "metadata": {
    "collapsed": false,
    "pycharm": {
     "name": "#%%\n"
    }
   }
  }
 ],
 "metadata": {
  "kernelspec": {
   "name": "python3",
   "language": "python",
   "display_name": "Python 3"
  },
  "language_info": {
   "codemirror_mode": {
    "name": "ipython",
    "version": 2
   },
   "file_extension": ".py",
   "mimetype": "text/x-python",
   "name": "python",
   "nbconvert_exporter": "python",
   "pygments_lexer": "ipython2",
   "version": "2.7.6"
  }
 },
 "nbformat": 4,
 "nbformat_minor": 0
}
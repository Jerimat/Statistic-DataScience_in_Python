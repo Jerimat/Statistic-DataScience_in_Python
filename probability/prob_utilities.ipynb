{
 "cells": [
  {
   "cell_type": "code",
   "execution_count": null,
   "metadata": {
    "collapsed": true
   },
   "outputs": [],
   "source": [
    "#imports\n",
    "import numpy as np\n",
    "import matplotlib.pyplot as plt\n",
    "from scipy import integrate\n",
    "import scipy.stats"
   ]
  },
  {
   "cell_type": "code",
   "execution_count": null,
   "outputs": [],
   "source": [
    "# plt.style.use('seaborn-whitegrid')\n",
    "plt.style.use('bmh')\n",
    "# plt.style.use('ggplot')"
   ],
   "metadata": {
    "collapsed": false,
    "pycharm": {
     "name": "#%%\n"
    }
   }
  },
  {
   "cell_type": "markdown",
   "source": [
    "### Utility Functions"
   ],
   "metadata": {
    "collapsed": false,
    "pycharm": {
     "name": "#%% md\n"
    }
   }
  },
  {
   "cell_type": "code",
   "execution_count": null,
   "outputs": [],
   "source": [
    "#Ensure the pdf is valid\n",
    "def is_valid_pdf(pdf, bounds):\n",
    "    \"\"\"\n",
    "    :param pdf: a lambda - Probability Density Function\n",
    "    :param bounds: 2D array w/ bounds[0]=a, bounds[1]=b\n",
    "    :return: Returns True if the pdf integrates to 1 from a to b\n",
    "    \"\"\"\n",
    "    result = integrate.quad(pdf, bounds[0], bounds[1])\n",
    "    result = np.round(result[0], 4)\n",
    "\n",
    "    return result == 1"
   ],
   "metadata": {
    "collapsed": false,
    "pycharm": {
     "name": "#%%\n"
    }
   }
  },
  {
   "cell_type": "code",
   "execution_count": null,
   "outputs": [],
   "source": [
    "def is_valid_pmf(pmf, bounds):\n",
    "    #TODO\n",
    "    pass\n"
   ],
   "metadata": {
    "collapsed": false,
    "pycharm": {
     "name": "#%%\n"
    }
   }
  },
  {
   "cell_type": "code",
   "execution_count": null,
   "outputs": [],
   "source": [
    "#TODO: check if results are correct\n",
    "def get_cdf(distribution, range):\n",
    "    \"\"\"\n",
    "    Assume the distribution is valid\n",
    "    :param distribution: pdf or pmf\n",
    "    :return: x, Cumulative Density Function\n",
    "    \"\"\"\n",
    "    x, y = generate_data_points(distribution, range)\n",
    "    cdf = np.cumsum(y)\n",
    "    cdf /= cdf[-1]\n",
    "\n",
    "    return x, cdf"
   ],
   "metadata": {
    "collapsed": false,
    "pycharm": {
     "name": "#%%\n"
    }
   }
  },
  {
   "cell_type": "code",
   "execution_count": null,
   "outputs": [],
   "source": [
    "def generate_data_points(distribution, range, accuracy=1000):\n",
    "    \"\"\"\n",
    "    :param distribution: function (lambda) mapping x->y\n",
    "    :param range: array w/ [lower bound, upper bound]\n",
    "    :param accuracy: nb of data points to generate within the given range\n",
    "    :return: the x, y mapped data (x->y)\n",
    "    \"\"\"\n",
    "    x = np.linspace(range[0], range[1], accuracy)\n",
    "    y = distribution(x)\n",
    "\n",
    "    return x, y"
   ],
   "metadata": {
    "collapsed": false,
    "pycharm": {
     "name": "#%%\n"
    }
   }
  },
  {
   "cell_type": "code",
   "execution_count": null,
   "outputs": [],
   "source": [
    "def visualize_distribution(distribution, range, name, visualize_cdf=False):\n",
    "    #generate data points\n",
    "    x, y = generate_data_points(distribution, range)\n",
    "    #plot the distribution\n",
    "    if visualize_cdf:\n",
    "        fig, (ax1, ax2) = plt.subplots(2, sharex=True, gridspec_kw={'hspace':0.05}, figsize=(10, 7))\n",
    "        x_cdf, cdf = get_cdf(distribution, range)\n",
    "\n",
    "        ax1.plot(x, y, label=name)\n",
    "        ax1.legend(loc='best', frameon=True)\n",
    "\n",
    "        ax2.plot(x_cdf, cdf, color='red', label='CDF of {}'.format(name))\n",
    "        ax2.set_ylim(0, 1.1)\n",
    "        ax2.set_yticks(np.arange(0, 1, step=0.1))\n",
    "        ax2.legend(loc='best', frameon=True)\n",
    "    else:\n",
    "        plt.figure(figsize=(10, 5))\n",
    "        plt.plot(x, y, label=name)\n",
    "        plt.legend(loc='best', frameon='True')"
   ],
   "metadata": {
    "collapsed": false,
    "pycharm": {
     "name": "#%%\n"
    }
   }
  },
  {
   "cell_type": "code",
   "execution_count": null,
   "outputs": [],
   "source": [
    "def compare_distributions(distributions, ranges, names):\n",
    "    \"\"\"\n",
    "    :param distributions: array of functions (lambdas) mapping x->y\n",
    "    :param ranges: 2D-array with [lower bound, upper bound] range in which each distribution is specified\n",
    "    :param names: array\n",
    "    :return: Nothing\n",
    "    \"\"\"\n",
    "    #plot distributions\n",
    "    plt.figure(figsize=(10, 7))\n",
    "    ax = plt.axes()\n",
    "    for (distribution, range, name) in zip(distributions, ranges, names):\n",
    "        x, y = generate_data_points(distribution, range)\n",
    "        ax.plot(x, y, label=name)\n",
    "\n",
    "    ax.legend(loc='best', frameon=True)"
   ],
   "metadata": {
    "collapsed": false,
    "pycharm": {
     "name": "#%%\n"
    }
   }
  },
  {
   "cell_type": "code",
   "execution_count": null,
   "outputs": [],
   "source": [
    "def compare_distribution_separate(distributions, ranges, names):\n",
    "    nb_subplots = len(distributions)\n",
    "    fig, ax = plt.subplots(nb_subplots, figsize=(10, 7), gridspec_kw={'hspace':0.3})\n",
    "\n",
    "    for row in range(nb_subplots):\n",
    "        x, y = generate_data_points(distributions[row], ranges[row])\n",
    "        ax[row].plot(x, y)\n",
    "        ax[row].set_title(names[row])"
   ],
   "metadata": {
    "collapsed": false,
    "pycharm": {
     "name": "#%%\n"
    }
   }
  },
  {
   "cell_type": "code",
   "execution_count": null,
   "outputs": [],
   "source": [
    "def n_step_markov_chains(matrix, n):\n",
    "    \"\"\"\n",
    "    Compute the probability of the state being in state_ij after n steps\n",
    "    Assumes the matrix parameter is a valid Markov Chain\n",
    "    :param matrix: Markov Chain\n",
    "    :param n: n step\n",
    "    :return: Markov matrix after n step\n",
    "    \"\"\""
   ],
   "metadata": {
    "collapsed": false,
    "pycharm": {
     "name": "#%%\n"
    }
   }
  },
  {
   "cell_type": "markdown",
   "source": [
    "### Test cells"
   ],
   "metadata": {
    "collapsed": false,
    "pycharm": {
     "name": "#%% md\n"
    }
   }
  },
  {
   "cell_type": "code",
   "execution_count": null,
   "outputs": [],
   "source": [
    "# test is_valid_pdf\n",
    "test_pdf = lambda x: 5 * np.exp(-5 * x)\n",
    "bounds = [0, np.infty]\n",
    "print(is_valid_pdf(test_pdf, bounds))"
   ],
   "metadata": {
    "collapsed": false,
    "pycharm": {
     "name": "#%%\n"
    }
   }
  },
  {
   "cell_type": "code",
   "execution_count": null,
   "outputs": [],
   "source": [
    "# test get_cdf\n",
    "var = 10\n",
    "mu = 0\n",
    "test_pdf = lambda x: 1/(np.sqrt(2 *np.pi)*np.sqrt(var)) * np.exp(-(x - mu)**2/(2*var))\n",
    "test_range = [-5, 5]\n",
    "# test_pdf = lambda x: 3 * np.exp(-3 * x)\n",
    "# test_range = [0, 10]\n",
    "x_test, test_cdf = get_cdf(test_pdf,test_range)\n",
    "plt.figure()\n",
    "plt.title('Cumulative distribution function')\n",
    "plt.plot(x_test, test_cdf)\n"
   ],
   "metadata": {
    "collapsed": false,
    "pycharm": {
     "name": "#%%\n"
    }
   }
  },
  {
   "cell_type": "code",
   "execution_count": null,
   "outputs": [],
   "source": [
    "# test visualize_distribution\n",
    "var = 2\n",
    "mu = 0\n",
    "distribution_test = lambda x: 1/(np.sqrt(2 *np.pi)*np.sqrt(var)) * np.exp(-(x - mu)**2/(2*var))\n",
    "distribution_test_range = [-10, 10]\n",
    "name = 'Normal random variable'\n",
    "\n",
    "# lmbda = 1\n",
    "# distribution_test_range = [0, 10]\n",
    "# distribution_test = lambda x: lmbda * np.exp(-lmbda * x)\n",
    "# name = 'exponential random variable'\n",
    "\n",
    "visualize_distribution(distribution_test, distribution_test_range, name, True)"
   ],
   "metadata": {
    "collapsed": false,
    "pycharm": {
     "name": "#%%\n"
    }
   }
  },
  {
   "cell_type": "code",
   "execution_count": null,
   "outputs": [],
   "source": [
    "# test compare_distributions\n",
    "lmbda = 1\n",
    "distribution1_test_range = [0, 10]\n",
    "distribution1_test = lambda x: lmbda * np.exp(-lmbda * x)\n",
    "distribution1_name = 'Exponential random variable'\n",
    "\n",
    "distribution2_test_range = [0, 10]\n",
    "distribution2_test = lambda x: ((lmbda**x)/scipy.special.factorial(x)) * np.exp(-lmbda)\n",
    "distribution2_name = 'Poisson random variable'\n",
    "\n",
    "var = 2\n",
    "mu = 0\n",
    "distribution3_test = lambda x: 1/(np.sqrt(2 *np.pi)*np.sqrt(var)) * np.exp(-(x - mu)**2/(2*var))\n",
    "distribution3_test_range = [-5, 5]\n",
    "distribution3_name = 'Normal random variable'\n",
    "\n",
    "distributions = [distribution1_test, distribution2_test, distribution3_test]\n",
    "ranges = [distribution1_test_range, distribution2_test_range, distribution3_test_range]\n",
    "names = [distribution1_name, distribution2_name, distribution3_name]\n",
    "\n",
    "compare_distributions(distributions, ranges, names)\n",
    "compare_distribution_separate(distributions, ranges, names)"
   ],
   "metadata": {
    "collapsed": false,
    "pycharm": {
     "name": "#%%\n"
    }
   }
  },
  {
   "cell_type": "markdown",
   "source": [
    "### Applications"
   ],
   "metadata": {
    "collapsed": false,
    "pycharm": {
     "name": "#%% md\n"
    }
   }
  },
  {
   "cell_type": "code",
   "execution_count": null,
   "outputs": [],
   "source": [
    "\n"
   ],
   "metadata": {
    "collapsed": false,
    "pycharm": {
     "name": "#%%\n"
    }
   }
  }
 ],
 "metadata": {
  "kernelspec": {
   "name": "python3",
   "language": "python",
   "display_name": "Python 3"
  },
  "language_info": {
   "codemirror_mode": {
    "name": "ipython",
    "version": 2
   },
   "file_extension": ".py",
   "mimetype": "text/x-python",
   "name": "python",
   "nbconvert_exporter": "python",
   "pygments_lexer": "ipython2",
   "version": "2.7.6"
  }
 },
 "nbformat": 4,
 "nbformat_minor": 0
}